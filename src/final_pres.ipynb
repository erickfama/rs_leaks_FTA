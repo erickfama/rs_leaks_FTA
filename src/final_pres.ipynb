{
 "cells": [
  {
   "attachments": {},
   "cell_type": "markdown",
   "metadata": {},
   "source": [
    "# Clasificación de fugas en toma de agua (FTA)\n",
    "\n",
    "Proyecto final para la materia de Aprendizaje Automático.\n",
    "\n",
    "Profesor: Luis Guillermo Ruiz Velázquez\\\n",
    "Alumno: Erick Gabriel Fajardo Martínez\n"
   ]
  },
  {
   "attachments": {},
   "cell_type": "markdown",
   "metadata": {},
   "source": [
    "## Descripción del problema"
   ]
  },
  {
   "attachments": {},
   "cell_type": "markdown",
   "metadata": {},
   "source": [
    "Las fugas de agua representan un gran problema en la ciudad de Aguascalientes (SEGGOB, 2022) y en diversas partes del mundo Morais & de Al-meida, 2007). \n",
    "\n",
    "Con base en información proporcionada por la concesionaria de agua del municipio de Aguascalientes, **se estima que alrededor del 35% del agua que es extraída se pierde por fugas de agua.** \n",
    "\n",
    "\n",
    "\n"
   ]
  },
  {
   "attachments": {},
   "cell_type": "markdown",
   "metadata": {},
   "source": [
    "### Tipos de fugas\n",
    "\n",
    "Existen, principalmente, dos tipos de fugas de agua: 1) Fugas en toma de agua (FTA), las cuales se presentan entre la conexión de la casa y la tubería central; 2) Fugas en tubería central (FTC), las cuales aparecen en las tuberías subterráneas de distribución. \n",
    "\n",
    "El siguiente gráfico muestra las fugas detectadas por tipo durante el periodo 2020 - 2022.\n",
    "\n",
    "![total_fugas](../figs/tot_fugas.png)\n",
    "\n",
    "El tipo de fuga que será de interés para estre trabajo serán las **FTA**."
   ]
  },
  {
   "attachments": {},
   "cell_type": "markdown",
   "metadata": {},
   "source": [
    "## Datos\n",
    "\n",
    "Los datos utilizados comprenden dos fuentes. La primera es un conjunto de datos proporcionado por la concesionaria de agua del municipio de Aguascalientes y contiene variables importantes como la coordenada geográfica de la fuga, tipo de fuga, estatus de reparación, fecha de reporte y fecha de reparación. La segunda fuente son imágenes satelitales, las cuales fueron utilizadas para generar el conjunto de datos que será insumo para la red neuronal. El principal motivo de utilizar imágenes satelitales es que tienen la capacidad de captar información más allá del espectro visible, como características del suelo, por ejemeplo: humedad, temperatura, estado de la vegetación, entre otras (Q. Liu et al., 2017; Slavkovikj et al., 2015).\n",
    "\n",
    "El conjunto de datos para el entrenamiento fue creado con imágenes del satélite Sentinel-2. La descarga se hizo a través de la API para python `Google Earth Engine` y consistió en utilizar cada coordenada geográfica de las FTA para delimitar un buffer rectangular de 100 m y obtener dos imágenes, una antes de la reparación (imagen de fuga) y otra después de la reparación (imagen de no fuga). De esta manera se logró crear un conjunto de datos conformado por 40,250 imágenes y 2 categorías (fuga y no fuga). \n",
    "\n",
    "Cada imagen tienen una resolución de 20 $\\times$ 20 píxeles $\\times$ 13 bandas espectrales. \n",
    "\n",
    "La siguiente imagen muestra la ubicación geográfica de las fugas detectadas dentro del periodo 2020 - 2022."
   ]
  },
  {
   "attachments": {},
   "cell_type": "markdown",
   "metadata": {},
   "source": [
    "![mapa_fugas](../figs/fugas_geo.png)"
   ]
  },
  {
   "cell_type": "code",
   "execution_count": null,
   "metadata": {
    "vscode": {
     "languageId": "plaintext"
    }
   },
   "outputs": [],
   "source": [
    "### Preprocesamiento\n",
    "\n",
    "Lo primero fue filtrar los datos sobre fugas de agua para trabajar únicamente con FTAs reparadas.\n",
    "\n",
    "Descargar imágenes con la API Google Earth Engine\n",
    "\n"
   ]
  },
  {
   "attachments": {},
   "cell_type": "markdown",
   "metadata": {},
   "source": [
    "## Referencias\n",
    "\n",
    "Liu, Q., Zhou, F., Hang, R., & Yuan, X. (2017). Bidirectional-Convolutional LSTM Based\n",
    "Spectral-Spatial Feature Learning for Hyperspectral Image Classification. Remote Sen-\n",
    "sing, 9(12), 1330. https://doi.org/10.3390/rs9121330\n",
    "\n",
    "Morais, D. C., & de Almeida, A. T. (2007). Group decision-making for leakage management\n",
    "strategy of water network. Resource Consrrvation and Recycling, 52, 441-459. https:\n",
    "//doi.org/10.1016/j.resconrec.2007.06.008\n",
    "\n",
    "SEGGOB. (2022). Plan Hídrico Estatal 2021-2050 del Estado de Aguascalientes. https : / /\n",
    "www .google .com / url ?sa = t & rct = j & q = &esrc = s & source = web & cd = &ved =\n",
    "2ahUKEwi5hNGkkKD _AhV7PEQIHezRBg4QFnoECAUQAQ&url=https%5C%3A%5C%2F%\n",
    "5C%2Feservicios2 .aguascalientes .gob .mx%5C%2FNormatecaAdministrador%\n",
    "5C%2Farchivos%5C%2FEDO-23-180.pdf&usg=AOvVaw2RvPr3iFvGOMbFxyMkzf07\n",
    "\n",
    "Slavkovikj, V., Verstockt, S., De Neve, W., Van Hoecke, S., & Van de Walle, R. (2015). Hy-\n",
    "perspectral image classification with convolutional neural networks. MM ’15: Procee-\n",
    "dings of the 23rd ACM international conference on Multimedia, 1159-1162. https :\n",
    "//doi.org/10.1145/2733373.2806306\n"
   ]
  }
 ],
 "metadata": {
  "language_info": {
   "name": "python"
  },
  "orig_nbformat": 4
 },
 "nbformat": 4,
 "nbformat_minor": 2
}
