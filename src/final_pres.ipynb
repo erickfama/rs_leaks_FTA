{
 "cells": [
  {
   "attachments": {},
   "cell_type": "markdown",
   "metadata": {},
   "source": [
    "# Clasificación de fugas en toma de agua (FTA)\n",
    "\n",
    "Proyecto final para la materia de Aprendizaje Automático.\n",
    "\n",
    "Profesor: Luis Guillermo Ruiz Velázquez\n",
    "Alumno: Erick Gabriel Fajardo Martínez\n"
   ]
  },
  {
   "attachments": {},
   "cell_type": "markdown",
   "metadata": {},
   "source": [
    "## Descripción del problema"
   ]
  },
  {
   "attachments": {},
   "cell_type": "markdown",
   "metadata": {},
   "source": [
    "Las fugas de agua representan un gran problema en la ciudad de Aguascalientes (SEGGOB, 2022) y en diversas partes del mundo Morais & de Al-meida, 2007). \n",
    "\n",
    "Con base en información proporcionada por la concesionaria de agua del municipio de Aguascalientes, **se estima que alrededor del 35% del agua que es extraída se pierde por fugas de agua.** \n",
    "\n",
    "\n",
    "\n"
   ]
  },
  {
   "attachments": {},
   "cell_type": "markdown",
   "metadata": {},
   "source": [
    "### Tipos de fugas\n",
    "\n",
    "Existen, principalmente, dos tipos de fugas de agua: 1) Fugas en toma de agua (FTA), las cuales se presentan entre la conexión de la casa y la tubería central; 2) Fugas en tubería central (FTC), las cuales aparecen en las tuberías subterráneas de distribución. \n",
    "\n",
    "El siguiente gráfico muestra las fugas detectadas por tipo durante el periodo 2020 - 2022.\n",
    "\n",
    "![total_fugas](../figs/tot_fugas.png)"
   ]
  },
  {
   "attachments": {},
   "cell_type": "markdown",
   "metadata": {},
   "source": [
    "## Datos\n",
    "\n",
    "El conjunto de datos fue creado a partir de imágenes del satélite Sentinel-2. La descarga se hizo a través de la API para python `Google Earth Engine`.\n",
    "\n",
    "A partir de las coordenadas geográficas de las FTA se descargaron dos imágenes, una antes de la reparación (imagen de fuga) y otra después de la reparación (imagen de no fuga). \n",
    "\n",
    "De esta manera se logró crear un conjunto de datos conformado por 40250 imágenes y 2 categorías (fuga y no fuga.)\n",
    "\n",
    "Las imágenes tienen una resolución de 20$\\times$20 píxeles y 13 bandas espectrales."
   ]
  },
  {
   "attachments": {},
   "cell_type": "markdown",
   "metadata": {},
   "source": [
    "## Referencias\n",
    "\n",
    "Morais, D. C., & de Almeida, A. T. (2007). Group decision-making for leakage management\n",
    "strategy of water network. Resource Consrrvation and Recycling, 52, 441-459. https:\n",
    "//doi.org/10.1016/j.resconrec.2007.06.008\n",
    "\n",
    "SEGGOB. (2022). Plan Hídrico Estatal 2021-2050 del Estado de Aguascalientes. https : / /\n",
    "www .google .com / url ?sa = t & rct = j & q = &esrc = s & source = web & cd = &ved =\n",
    "2ahUKEwi5hNGkkKD _AhV7PEQIHezRBg4QFnoECAUQAQ&url=https%5C%3A%5C%2F%\n",
    "5C%2Feservicios2 .aguascalientes .gob .mx%5C%2FNormatecaAdministrador%\n",
    "5C%2Farchivos%5C%2FEDO-23-180.pdf&usg=AOvVaw2RvPr3iFvGOMbFxyMkzf07\n"
   ]
  }
 ],
 "metadata": {
  "language_info": {
   "name": "python"
  },
  "orig_nbformat": 4
 },
 "nbformat": 4,
 "nbformat_minor": 2
}
